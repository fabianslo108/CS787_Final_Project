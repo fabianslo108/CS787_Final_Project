{
 "cells": [
  {
   "cell_type": "code",
   "execution_count": 33,
   "metadata": {},
   "outputs": [
    {
     "name": "stdout",
     "output_type": "stream",
     "text": [
      "            Verbal_Coop  Material_Coop  Verbal_Conflict  Material_Conflict\n",
      "1999-01-31           19              5                4                  1\n",
      "1999-02-28           21              6                2                  1\n",
      "1999-03-31           19              5                6                 14\n",
      "1999-04-30           21              4               13                  3\n",
      "1999-05-31           10              4                4                  7\n"
     ]
    }
   ],
   "source": [
    "import pandas as pd\n",
    "from pandas import Series\n",
    "from pandas import DataFrame\n",
    "import numpy as np\n",
    "from pathlib import Path\n",
    "\n",
    "data_file = Path(r'C:\\Users\\Fabian\\Dropbox\\CS 767\\Project\\labor-conflict-data.csv')\n",
    "data = pd.read_csv(filepath_or_buffer=data_file)\n",
    "data = data.pivot(index='MonthYear', columns='QuadClass', values='f0_')\n",
    "rng = pd.date_range(start='1/1/1999', periods=data.shape[0], freq='M')     # date index\n",
    "data.index = rng\n",
    "data.columns = ['Verbal_Coop', 'Material_Coop', 'Verbal_Conflict', 'Material_Conflict']\n",
    "print(data.head())"
   ]
  },
  {
   "cell_type": "code",
   "execution_count": 6,
   "metadata": {},
   "outputs": [
    {
     "name": "stdout",
     "output_type": "stream",
     "text": [
      "Using matplotlib backend: TkAgg\n"
     ]
    }
   ],
   "source": [
    "%matplotlib\n",
    "import matplotlib.pyplot as plt\n",
    "\n",
    "data.plot()\n",
    "plt.show()"
   ]
  },
  {
   "cell_type": "code",
   "execution_count": 12,
   "metadata": {
    "scrolled": true
   },
   "outputs": [
    {
     "data": {
      "text/html": [
       "<div>\n",
       "<style scoped>\n",
       "    .dataframe tbody tr th:only-of-type {\n",
       "        vertical-align: middle;\n",
       "    }\n",
       "\n",
       "    .dataframe tbody tr th {\n",
       "        vertical-align: top;\n",
       "    }\n",
       "\n",
       "    .dataframe thead th {\n",
       "        text-align: right;\n",
       "    }\n",
       "</style>\n",
       "<table border=\"1\" class=\"dataframe\">\n",
       "  <thead>\n",
       "    <tr style=\"text-align: right;\">\n",
       "      <th></th>\n",
       "      <th>Verbal_Coop</th>\n",
       "      <th>Material_Coop</th>\n",
       "      <th>Verbal_Conflict</th>\n",
       "      <th>Material_Conflict</th>\n",
       "    </tr>\n",
       "  </thead>\n",
       "  <tbody>\n",
       "    <tr>\n",
       "      <th>count</th>\n",
       "      <td>237.000000</td>\n",
       "      <td>237.000000</td>\n",
       "      <td>237.000000</td>\n",
       "      <td>237.000000</td>\n",
       "    </tr>\n",
       "    <tr>\n",
       "      <th>mean</th>\n",
       "      <td>1891.704641</td>\n",
       "      <td>479.046414</td>\n",
       "      <td>478.405063</td>\n",
       "      <td>402.540084</td>\n",
       "    </tr>\n",
       "    <tr>\n",
       "      <th>std</th>\n",
       "      <td>2155.652427</td>\n",
       "      <td>537.435769</td>\n",
       "      <td>543.659559</td>\n",
       "      <td>453.367984</td>\n",
       "    </tr>\n",
       "    <tr>\n",
       "      <th>min</th>\n",
       "      <td>9.000000</td>\n",
       "      <td>2.000000</td>\n",
       "      <td>2.000000</td>\n",
       "      <td>1.000000</td>\n",
       "    </tr>\n",
       "    <tr>\n",
       "      <th>25%</th>\n",
       "      <td>36.000000</td>\n",
       "      <td>9.000000</td>\n",
       "      <td>13.000000</td>\n",
       "      <td>14.000000</td>\n",
       "    </tr>\n",
       "    <tr>\n",
       "      <th>50%</th>\n",
       "      <td>665.000000</td>\n",
       "      <td>186.000000</td>\n",
       "      <td>170.000000</td>\n",
       "      <td>133.000000</td>\n",
       "    </tr>\n",
       "    <tr>\n",
       "      <th>75%</th>\n",
       "      <td>3621.000000</td>\n",
       "      <td>916.000000</td>\n",
       "      <td>919.000000</td>\n",
       "      <td>777.000000</td>\n",
       "    </tr>\n",
       "    <tr>\n",
       "      <th>max</th>\n",
       "      <td>7196.000000</td>\n",
       "      <td>1818.000000</td>\n",
       "      <td>1847.000000</td>\n",
       "      <td>1395.000000</td>\n",
       "    </tr>\n",
       "  </tbody>\n",
       "</table>\n",
       "</div>"
      ],
      "text/plain": [
       "       Verbal_Coop  Material_Coop  Verbal_Conflict  Material_Conflict\n",
       "count   237.000000     237.000000       237.000000         237.000000\n",
       "mean   1891.704641     479.046414       478.405063         402.540084\n",
       "std    2155.652427     537.435769       543.659559         453.367984\n",
       "min       9.000000       2.000000         2.000000           1.000000\n",
       "25%      36.000000       9.000000        13.000000          14.000000\n",
       "50%     665.000000     186.000000       170.000000         133.000000\n",
       "75%    3621.000000     916.000000       919.000000         777.000000\n",
       "max    7196.000000    1818.000000      1847.000000        1395.000000"
      ]
     },
     "execution_count": 12,
     "metadata": {},
     "output_type": "execute_result"
    }
   ],
   "source": [
    "data.describe()"
   ]
  },
  {
   "cell_type": "code",
   "execution_count": 19,
   "metadata": {},
   "outputs": [],
   "source": [
    "from statsmodels.graphics.tsaplots import plot_acf\n",
    "plot_acf(Series(data['Material_Coop']), lags=50)\n",
    "plt.show()\n"
   ]
  },
  {
   "cell_type": "code",
   "execution_count": 23,
   "metadata": {},
   "outputs": [],
   "source": [
    "from statsmodels.graphics.tsaplots import plot_pacf\n",
    "plot_pacf(Series(data['Verbal_Conflict']), lags=50)\n",
    "plt.show()"
   ]
  },
  {
   "cell_type": "code",
   "execution_count": 31,
   "metadata": {},
   "outputs": [
    {
     "name": "stdout",
     "output_type": "stream",
     "text": [
      "                              ARIMA Model Results                              \n",
      "===============================================================================\n",
      "Dep. Variable:     D.Material_Conflict   No. Observations:                  157\n",
      "Model:                  ARIMA(2, 1, 1)   Log Likelihood                -878.400\n",
      "Method:                        css-mle   S.D. of innovations             65.019\n",
      "Date:                 Tue, 09 Oct 2018   AIC                           1766.801\n",
      "Time:                         19:29:26   BIC                           1782.082\n",
      "Sample:                     02-28-1999   HQIC                          1773.007\n",
      "                          - 02-29-2012                                         \n",
      "=============================================================================================\n",
      "                                coef    std err          z      P>|z|      [0.025      0.975]\n",
      "---------------------------------------------------------------------------------------------\n",
      "const                         3.8443      2.235      1.720      0.088      -0.537       8.226\n",
      "ar.L1.D.Material_Conflict     0.4417      0.145      3.038      0.003       0.157       0.727\n",
      "ar.L2.D.Material_Conflict    -0.2328      0.094     -2.471      0.015      -0.417      -0.048\n",
      "ma.L1.D.Material_Conflict    -0.6638      0.129     -5.142      0.000      -0.917      -0.411\n",
      "                                    Roots                                    \n",
      "=============================================================================\n",
      "                  Real          Imaginary           Modulus         Frequency\n",
      "-----------------------------------------------------------------------------\n",
      "AR.1            0.9486           -1.8427j            2.0726           -0.1743\n",
      "AR.2            0.9486           +1.8427j            2.0726            0.1743\n",
      "MA.1            1.5064           +0.0000j            1.5064            0.0000\n",
      "-----------------------------------------------------------------------------\n"
     ]
    }
   ],
   "source": [
    "from statsmodels.tsa.arima_model import ARIMA\n",
    "n_fit = data['Material_Conflict'].shape[0]//3*2\n",
    "model = ARIMA(Series(data['Material_Conflict'])[:n_fit], order=(2,1,1))\n",
    "model_fit = model.fit(disp=0)\n",
    "print(model_fit.summary())\n"
   ]
  },
  {
   "cell_type": "code",
   "execution_count": 34,
   "metadata": {},
   "outputs": [],
   "source": [
    "residuals = DataFrame(model_fit.resid)\n",
    "residuals.plot()\n",
    "plt.show()\n"
   ]
  },
  {
   "cell_type": "code",
   "execution_count": 36,
   "metadata": {},
   "outputs": [
    {
     "name": "stdout",
     "output_type": "stream",
     "text": [
      "                0\n",
      "count  157.000000\n",
      "mean    -0.050900\n",
      "std     65.227871\n",
      "min   -287.007361\n",
      "25%    -14.149991\n",
      "50%     -8.425270\n",
      "75%      3.042754\n",
      "max    456.888029\n"
     ]
    }
   ],
   "source": [
    "residuals.plot(kind='kde')\n",
    "plt.show()\n",
    "print(residuals.describe())\n"
   ]
  },
  {
   "cell_type": "code",
   "execution_count": 43,
   "metadata": {},
   "outputs": [
    {
     "name": "stdout",
     "output_type": "stream",
     "text": [
      "Test RMSE: 358.812\n"
     ]
    }
   ],
   "source": [
    "X = Series(data['Material_Conflict']).values\n",
    "size = len(X) // 3 * 2\n",
    "train, test = X[0:size], X[size:len(X)]\n",
    "history = [x for x in train]\n",
    "predictions = list()\n",
    "for t in range(len(test)):\n",
    "    model = ARIMA(history, order=(2,1,1))\n",
    "    model_fit = model.fit(disp=0)\n",
    "    output = model_fit.forecast()\n",
    "    yhat = output[0]\n",
    "    predictions.append(yhat)\n",
    "    obs = test[t]\n",
    "    history.append(obs)\n",
    "    #print('predicted=%f, expected=%f' % (yhat, obs))\n",
    "error = np.square(np.subtract(test, predictions)).mean()\n",
    "print('Test RMSE: %.3f' % np.sqrt(error))\n",
    "# plot\n",
    "data_line, = plt.plot(test, label=\"Data\")\n",
    "pred_line, = plt.plot(predictions, color='red', label=\"Predictions\")\n",
    "plt.legend(handles=[data_line, pred_line])\n",
    "plt.show()\n"
   ]
  },
  {
   "cell_type": "code",
   "execution_count": null,
   "metadata": {},
   "outputs": [],
   "source": []
  }
 ],
 "metadata": {
  "kernelspec": {
   "display_name": "Python 3",
   "language": "python",
   "name": "python3"
  },
  "language_info": {
   "codemirror_mode": {
    "name": "ipython",
    "version": 3
   },
   "file_extension": ".py",
   "mimetype": "text/x-python",
   "name": "python",
   "nbconvert_exporter": "python",
   "pygments_lexer": "ipython3",
   "version": "3.6.5"
  }
 },
 "nbformat": 4,
 "nbformat_minor": 2
}
